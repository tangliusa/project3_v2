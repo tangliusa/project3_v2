version https://git-lfs.github.com/spec/v1
oid sha256:ea0be6706e13f86bab34587eb89c8ea03f8aaa5ea5095c3e1ed82b1c8ab27d01
size 21672
